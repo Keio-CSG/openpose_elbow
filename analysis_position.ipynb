{
 "cells": [
  {
   "cell_type": "code",
   "execution_count": 6,
   "metadata": {},
   "outputs": [],
   "source": [
    "from elbow_func import util_elbow\n",
    "import matplotlib.pyplot as plt\n",
    "import copy"
   ]
  },
  {
   "cell_type": "code",
   "execution_count": 35,
   "metadata": {},
   "outputs": [
    {
     "data": {
      "image/png": "[encoded data removed]",
      "text/plain": [
       "<Figure size 432x288 with 1 Axes>"
      ]
     },
     "metadata": {
      "needs_background": "light"
     },
     "output_type": "display_data"
    },
    {
     "name": "stdout",
     "output_type": "stream",
     "text": [
      "168.93658173220484 173.9669124175101 171.79949235681363 2397.0\n"
     ]
    }
   ],
   "source": [
    "# 肘の奥行きが±50 mmズレた場合の測定値のズレ\n",
    "\n",
    "world_XYZ = [[]]\n",
    "angle_list = [[],[]]\n",
    "\n",
    "for i in range(3):\n",
    "    world_XYZ[0].append(list(map(float,input().split())))\n",
    "\n",
    "for i in range(-50, 51):\n",
    "    new_world_XYZ = copy.deepcopy(world_XYZ)\n",
    "    new_world_XYZ[0][1][2] = world_XYZ[0][1][2] + i\n",
    "    result1 = util_elbow.calculate_angle(new_world_XYZ)\n",
    "    angle_list[0].append(new_world_XYZ[0][1][2])\n",
    "    angle_list[1].append(result1)\n",
    "plt.plot(angle_list[0],angle_list[1])\n",
    "plt.axvline(x=world_XYZ[0][1][2])\n",
    "plt.show()\n",
    "print(min(angle_list[1]),max(angle_list[1]),util_elbow.calculate_angle(world_XYZ),world_XYZ[0][1][2])\n"
   ]
  },
  {
   "cell_type": "code",
   "execution_count": null,
   "metadata": {},
   "outputs": [],
   "source": [
    "-498.1493225\t131.1783447\t1798\n",
    "-1213.589844\t159.8258209\t2397\n",
    "-2549.791016\t385.446228\t3808\n",
    "\n",
    "\n",
    "\n",
    "\n",
    "\n",
    "\n",
    "\n"
   ]
  }
 ],
 "metadata": {
  "kernelspec": {
   "display_name": "Python 3.9.7 ('realsense')",
   "language": "python",
   "name": "python3"
  },
  "language_info": {
   "codemirror_mode": {
    "name": "ipython",
    "version": 3
   },
   "file_extension": ".py",
   "mimetype": "text/x-python",
   "name": "python",
   "nbconvert_exporter": "python",
   "pygments_lexer": "ipython3",
   "version": "3.9.7"
  },
  "orig_nbformat": 4,
  "vscode": {
   "interpreter": {
    "hash": "e81e23222c593de110ba3ca338f9f711901b2a69121048cea89561b32ebefcdb"
   }
  }
 },
 "nbformat": 4,
 "nbformat_minor": 2
}
